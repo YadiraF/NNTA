{
 "cells": [
  {
   "cell_type": "markdown",
   "metadata": {},
   "source": [
    "# Requirement\n",
    "\n",
    "### 1. Implement traditional one-versus-one and one-versus-rest task decomposition methods to solve a multi-class problem mentioned below.\n",
    "### 2. Implement part-versus-part task decomposition method to solve the same multi-class problem.\n",
    "### 3. Use two different kernel functions, namely linear and RBF, in all your classifiers.\n",
    "\n",
    "******\n",
    "\n",
    "#### Loading data and import svm"
   ]
  },
  {
   "cell_type": "code",
   "execution_count": 204,
   "metadata": {
    "collapsed": false
   },
   "outputs": [],
   "source": [
    "import numpy as np\n",
    "import os, sys\n",
    "sys.path.append('libsvm-3.22/python')\n",
    "from svmutil import *\n",
    "\n",
    "train_path = 'data/train.txt'\n",
    "test_path = 'data/test.txt'\n",
    "\n",
    "y, x = svm_read_problem(train_path) # training data\n",
    "yt, xt = svm_read_problem(test_path) # test data"
   ]
  },
  {
   "cell_type": "markdown",
   "metadata": {},
   "source": [
    "#### Implement traditional one-versus-one with two different kernel functions, namely linear and RBF"
   ]
  },
  {
   "cell_type": "code",
   "execution_count": 201,
   "metadata": {
    "collapsed": false
   },
   "outputs": [
    {
     "name": "stdout",
     "output_type": "stream",
     "text": [
      "Accuracy with linear kernel:  58.2562747688 %\n",
      "Accuracy with RBF kernel:  57.9260237781 %\n"
     ]
    }
   ],
   "source": [
    "#-----------One-versus-rest needs k =12 classifiers\n",
    "\n",
    "class OVR(object):\n",
    "    def __init__(self, kernel=0):\n",
    "        self.svm_dict = {}\n",
    "        self.kernel = kernel\n",
    "    def train(self,x,y):\n",
    "        # decomposition\n",
    "        for k in range(12):\n",
    "            y_or = [(1 if i==k else -1) for i in y]\n",
    "            m = svm_train(y_or, x, '-t %d -c 10 -b 1'% self.kernel)\n",
    "            self.svm_dict[k] = m\n",
    "            \n",
    "    def predict(self,xt,yt):\n",
    "        # combination\n",
    "        prob_list = []\n",
    "        for k in range(12):\n",
    "            m = self.svm_dict[k]\n",
    "            _, _, p_val = svm_predict(yt, xt, m, '-b 1 -q')\n",
    "            prob_list.append(p_val)\n",
    "        pl = np.array(prob_list)\n",
    "        pl = pl[:,:,0]\n",
    "        pred = np.argmax(pl, axis = 0)\n",
    "        return pred\n",
    "\n",
    "# ---- linear\n",
    "ovr = OVR()\n",
    "ovr.train(x,y)\n",
    "pred = ovr.predict(xt,yt)\n",
    "# evaluation\n",
    "correct = np.sum(pred==yt)\n",
    "acc = correct/float(len(yt))\n",
    "print 'Accuracy with linear kernel: ', acc*100, '%'\n",
    "\n",
    "# ---- RBF\n",
    "ovr = OVR(kernel=2)\n",
    "ovr.train(x,y)\n",
    "pred = ovr.predict(xt,yt)\n",
    "# evaluation\n",
    "correct = np.sum(pred==yt)\n",
    "acc = correct/float(len(yt)) \n",
    "print 'Accuracy with RBF kernel: ', acc*100, '%'"
   ]
  },
  {
   "cell_type": "markdown",
   "metadata": {},
   "source": [
    "#### Implement traditional one-versus-rest with two different kernel functions, namely linear and RBF"
   ]
  },
  {
   "cell_type": "code",
   "execution_count": 205,
   "metadata": {
    "collapsed": false,
    "scrolled": false
   },
   "outputs": [
    {
     "name": "stdout",
     "output_type": "stream",
     "text": [
      "Accuracy with linear kernel:  63.3421400264 %\n",
      "Accuracy with RBF kernel:  60.8982826948 %\n"
     ]
    }
   ],
   "source": [
    "#-----------One-versus-one needs k*(k-1)/2 = 66 classifiers\n",
    "\n",
    "class OVO(object):\n",
    "    def __init__(self, kernel=0):\n",
    "        self.svm_dict = {}\n",
    "        self.kernel = kernel\n",
    "        \n",
    "    def dataO2O(self,x,y,i,j):\n",
    "        xn, yn =[], []\n",
    "        for ind,label in enumerate(y):\n",
    "            if label==i:\n",
    "                xn.append(x[ind])\n",
    "                yn.append(1)\n",
    "            if label==j:\n",
    "                xn.append(x[ind])\n",
    "                yn.append(-1)\n",
    "        return xn,yn\n",
    "\n",
    "    def train(self,x,y):\n",
    "        # decomposition\n",
    "        for i in range(12):\n",
    "            for j in range(i+1,12):\n",
    "                x_oo, y_oo = self.dataO2O(x,y,i,j)\n",
    "                m = svm_train(y_oo, x_oo, '-t %d -c 10 -b 1'%self.kernel)\n",
    "                self.svm_dict[i,j] = m\n",
    "            \n",
    "    def predict(self,xt,yt):\n",
    "        # combination\n",
    "        votes = np.zeros([1514, 12])\n",
    "        for i in range(12):\n",
    "            for j in range(i+1,12):\n",
    "                m = self.svm_dict[i,j]\n",
    "                _, _, p_val = svm_predict(yt, xt, m, '-b 1 -q')\n",
    "                for n, val in enumerate(p_val):\n",
    "                    if val[0]>val[1]:\n",
    "                        votes[n,i] +=1\n",
    "                    else:\n",
    "                        votes[n,j] +=1\n",
    "        pred = np.argmax(votes, axis=1)\n",
    "        return pred\n",
    "\n",
    "# ---- linear\n",
    "ovo = OVO()\n",
    "ovo.train(x,y)\n",
    "pred = ovo.predict(xt,yt)\n",
    "# evaluation\n",
    "correct = np.sum(pred==yt)\n",
    "acc = correct/float(len(yt))  \n",
    "print 'Accuracy with linear kernel: ', acc*100, '%'\n",
    "\n",
    "# ---- RBF\n",
    "ovo = OVO(kernel=2)\n",
    "ovo.train(x,y)\n",
    "pred = ovo.predict(xt,yt)\n",
    "# evaluation\n",
    "correct = np.sum(pred==yt)\n",
    "acc = correct/float(len(yt)) \n",
    "print 'Accuracy with RBF kernel: ', acc*100, '%'"
   ]
  },
  {
   "cell_type": "markdown",
   "metadata": {},
   "source": [
    "#### Implement traditional part-versus-part with two different kernel functions, namely linear and RBF"
   ]
  },
  {
   "cell_type": "code",
   "execution_count": 206,
   "metadata": {
    "collapsed": false,
    "scrolled": false
   },
   "outputs": [
    {
     "name": "stdout",
     "output_type": "stream",
     "text": [
      "Accuracy with linear kernel:  60.5019815059 %\n",
      "Accuracy with RBF kernel:  60.5680317041 %\n"
     ]
    }
   ],
   "source": [
    "# --------- Part-versus-part with one-vs-rest needs k*(k-1)/2 = 66 classifiers\n",
    "\n",
    "class PVP(object):\n",
    "    def __init__(self, kernel=0):\n",
    "        self.svm_dict = {}\n",
    "        self.kernel = kernel\n",
    "        \n",
    "    def data2P(self,x,y):\n",
    "        x_dict, y_dict = {}, {}\n",
    "        xnp = np.array(x)\n",
    "        ynp = np.array(y)\n",
    "        len_opt = np.sum(ynp==1)\n",
    "        len_neg = np.sum(ynp==-1)\n",
    "        index_opt = np.array(np.where(ynp==1)).T\n",
    "        index_neg = np.array(np.where(ynp==-1)).T\n",
    "        index_opt = index_opt[:,0]\n",
    "        index_neg = index_neg[:,0]\n",
    "        np.random.shuffle(index_neg)\n",
    "        for i in range(len_neg/len_opt):\n",
    "            ind = np.hstack((index_opt, index_neg[i*len_opt:(i+1)*len_opt]))\n",
    "            x_dict[i] = list(xnp[ind])\n",
    "            y_dict[i] = list(ynp[ind])\n",
    "        return x_dict, y_dict\n",
    "    \n",
    "    def train(self,x,y):\n",
    "        # decomposition\n",
    "        for k in range(12):\n",
    "            y_or = [(1 if i==k else -1) for i in y]\n",
    "            x_dict, y_dict = self.data2P(x,y_or)\n",
    "            # train svms\n",
    "            svm_part_dict = {}\n",
    "            for p in range(len(y_dict)):\n",
    "                m = svm_train(y_dict[p], x_dict[p], '-t 0 -c 10 -b 1')\n",
    "                svm_part_dict[p] = m\n",
    "            self.svm_dict[k] = svm_part_dict\n",
    "            \n",
    "    def predict(self,xt,yt):\n",
    "        # combination\n",
    "        prob_list = []\n",
    "        for k in range(12):\n",
    "            svm_part_dict = self.svm_dict[k]\n",
    "            pred = np.zeros([1514,len(svm_part_dict)])\n",
    "            for p in range(len(svm_part_dict)):\n",
    "                m = svm_part_dict[p]\n",
    "                _, _, p_val = svm_predict(yt, xt, m, '-b 1 -q')\n",
    "                pred[:,p] = np.array(p_val)[:,0]\n",
    "            pred = np.min(pred,axis=1)\n",
    "            prob_list.append(pred)\n",
    "            \n",
    "        pl = np.array(prob_list)\n",
    "        pl = pl[:,:]\n",
    "        pred = np.argmax(pl, axis = 0)\n",
    "        return pred\n",
    "    \n",
    "# ---- linear\n",
    "pvp = PVP()\n",
    "pvp.train(x,y)\n",
    "pred = pvp.predict(xt,yt)\n",
    "# evaluation\n",
    "correct = np.sum(pred==yt)\n",
    "acc = correct/float(len(yt))  \n",
    "print 'Accuracy with linear kernel: ', acc*100, '%'\n",
    "\n",
    "# ---- RBF\n",
    "pvp = PVP(kernel=2)\n",
    "pvp.train(x,y)\n",
    "pred = pvp.predict(xt,yt)\n",
    "# evaluation\n",
    "correct = np.sum(pred==yt)\n",
    "acc = correct/float(len(yt))  \n",
    "print 'Accuracy with RBF kernel: ', acc*100, '%'"
   ]
  },
  {
   "cell_type": "markdown",
   "metadata": {},
   "source": [
    "\n",
    "### 4. Compare the advantages and disadvantages of these three task decomposition methods.\n",
    "**One-vs-Rest:**   \n",
    "Advantages:  \n",
    "- k categories needs k svms.   \n",
    "- can train svms parallelly.      \n",
    "\n",
    "Disadvantages:   \n",
    "- The Number of training data for each classifier is N.   \n",
    "- The training data is strongly unbalanced, so the result are not so good.\n",
    "\n",
    "**One-vs-One:**   \n",
    "Advantages:     \n",
    "- The Number of training data for each classifier is about 2N/k.   \n",
    "- The training data is nearly balanced, so the result are better than One-vs-Rest.  \n",
    "\n",
    "Disadvantages:   \n",
    "- k categories needs kx(k-1)/2 svms, too many models  \n",
    "\n",
    "**Part-vs-Part:**   \n",
    "Advantages:  \n",
    "- A large-scale two-class problem can be divided into a number of relatively smaller two-class problems\n",
    "- A serious imbalance two-class problem can be divided into a number of balance two-class problems\n",
    "- Massively parallel learning can be easily implemented\n",
    "\n",
    "Disadvantages:   \n",
    "- need preprocessing with training data."
   ]
  }
 ],
 "metadata": {
  "anaconda-cloud": {},
  "kernelspec": {
   "display_name": "Python [default]",
   "language": "python",
   "name": "python2"
  },
  "language_info": {
   "codemirror_mode": {
    "name": "ipython",
    "version": 2
   },
   "file_extension": ".py",
   "mimetype": "text/x-python",
   "name": "python",
   "nbconvert_exporter": "python",
   "pygments_lexer": "ipython2",
   "version": "2.7.12"
  }
 },
 "nbformat": 4,
 "nbformat_minor": 0
}
